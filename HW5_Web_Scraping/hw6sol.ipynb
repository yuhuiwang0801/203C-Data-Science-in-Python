{
 "cells": [
  {
   "cell_type": "code",
   "execution_count": 38,
   "id": "ee6cc50c-72fa-44af-9b9f-7f83b7fd018c",
   "metadata": {
    "tags": []
   },
   "outputs": [
    {
     "data": {
      "text/html": [
       "\n",
       "        <iframe\n",
       "            width=\"100%\"\n",
       "            height=\"650\"\n",
       "            src=\"http://127.0.0.1:8051/\"\n",
       "            frameborder=\"0\"\n",
       "            allowfullscreen\n",
       "            \n",
       "        ></iframe>\n",
       "        "
      ],
      "text/plain": [
       "<IPython.lib.display.IFrame at 0x120c34490>"
      ]
     },
     "metadata": {},
     "output_type": "display_data"
    }
   ],
   "source": [
    "import dash\n",
    "from dash import html, dcc\n",
    "from dash.dependencies import Input, Output, State\n",
    "import sqlite3\n",
    "import pandas as pd\n",
    "\n",
    "# Initialize the Dash app\n",
    "app = dash.Dash(__name__)\n",
    "\n",
    "# Define the app layout\n",
    "app.layout = html.Div([\n",
    "    html.H1(\"A SIMPLE MESSAGE BANK\", style={'text-align': 'center'}),\n",
    "    html.Div([\n",
    "        html.Div(\"Submit\", style={'font-size': '24px', 'margin-top': '20px'}),\n",
    "        dcc.Input(id='input-handle', type='text', placeholder='Your Name or Handle:', style={'width': '300px', 'margin': '10px'}),\n",
    "        dcc.Textarea(id='input-message', placeholder='Your Message:', style={'width': '300px', 'height': '100px', 'margin': '10px'}),\n",
    "        html.Button('Submit', id='submit-button', n_clicks=0, style={'margin': '10px'}),\n",
    "        html.Div(id='response-message', style={'margin': '10px'})\n",
    "    ], style={'padding': '20px', 'border': '1px solid black'}),\n",
    "    html.Div([\n",
    "        html.Div(\"View\", style={'font-size': '24px', 'margin-top': '20px'}),\n",
    "        html.Button('Update', id='update-button', n_clicks=0, style={'margin': '10px'}),\n",
    "        html.Div(id='display-messages', style={'margin': '10px'})\n",
    "    ], style={'padding': '20px', 'border': '1px solid black', 'margin-top': '20px'})\n",
    "], style={'width': '500px', 'margin': 'auto'})\n",
    "\n",
    "# Function to get or create database connection\n",
    "def get_message_db():\n",
    "    db = sqlite3.connect('messages_db.sqlite', check_same_thread=False)\n",
    "    cursor = db.cursor()\n",
    "    cursor.execute('''CREATE TABLE IF NOT EXISTS messages\n",
    "                      (handle TEXT, message TEXT)''')\n",
    "    db.commit()\n",
    "    return db\n",
    "\n",
    "# Callback for submitting messages\n",
    "@app.callback(\n",
    "    Output('response-message', 'children'),\n",
    "    Input('submit-button', 'n_clicks'),\n",
    "    [State('input-handle', 'value'), State('input-message', 'value')],\n",
    "    prevent_initial_call=True\n",
    ")\n",
    "def submit_message(n_clicks, handle, message):\n",
    "    if handle and message:\n",
    "        db = get_message_db()\n",
    "        cursor = db.cursor()\n",
    "        cursor.execute('INSERT INTO messages (handle, message) VALUES (?, ?)', (handle, message))\n",
    "        db.commit()\n",
    "        db.close()\n",
    "        return 'Thank you! Your message has been submitted.'\n",
    "    return 'Please fill in both your name and a message.'\n",
    "\n",
    "# Function to fetch random messages\n",
    "def random_messages(n=5):\n",
    "    db = get_message_db()\n",
    "    query = \"SELECT handle, message FROM messages ORDER BY RANDOM() LIMIT ?\"\n",
    "    df = pd.read_sql_query(query, db, params=(n,))\n",
    "    db.close()\n",
    "    return df\n",
    "\n",
    "# Callback for viewing messages\n",
    "@app.callback(\n",
    "    Output('display-messages', 'children'),\n",
    "    Input('update-button', 'n_clicks'),\n",
    "    prevent_initial_call=True\n",
    ")\n",
    "def view(n_clicks):\n",
    "    df = random_messages(5)  # Fetch up to 5 random messages\n",
    "    if df.empty:\n",
    "        return \"No messages to display.\"\n",
    "    messages = [html.Li(f\"{row['handle']}: {row['message']}\") for index, row in df.iterrows()]\n",
    "    return html.Ul(messages)\n",
    "\n",
    "# Run the Dash app\n",
    "if __name__ == '__main__':\n",
    "    app.run_server(debug=True, port=8051)\n"
   ]
  },
  {
   "cell_type": "code",
   "execution_count": null,
   "id": "f50eec45-9367-429f-ace5-964606dc4a0e",
   "metadata": {},
   "outputs": [],
   "source": []
  }
 ],
 "metadata": {
  "kernelspec": {
   "display_name": "Python 3 (ipykernel)",
   "language": "python",
   "name": "python3"
  },
  "language_info": {
   "codemirror_mode": {
    "name": "ipython",
    "version": 3
   },
   "file_extension": ".py",
   "mimetype": "text/x-python",
   "name": "python",
   "nbconvert_exporter": "python",
   "pygments_lexer": "ipython3",
   "version": "3.11.4"
  }
 },
 "nbformat": 4,
 "nbformat_minor": 5
}
