{
 "cells": [
  {
   "cell_type": "markdown",
   "id": "f12b1551-7415-4080-b4a5-6f6768567f8a",
   "metadata": {
    "tags": []
   },
   "source": [
    "# Homework 3\n",
    "### Name: Yuhui Wang\n",
    "### Collaborators: [Your collaborators]\n",
    "\n",
    "Due date: May 19, 2024\n",
    "\n",
    "Submission instructions: \n",
    "- __Autograder will not be used for scoring, but you still need to submit the python file converted from this notebook (.py) and the notebook file (.ipynb) to the code submission window.__ \n",
    "To convert a Jupyter Notebook (`.ipynb`) to a regular Python script (`.py`):\n",
    "  - In Jupyter Notebook: File > Download as > Python (.py)\n",
    "  - In JupyterLab: File > Save and Export Notebook As... > Executable Script\n",
    "  - In VS Code Jupyter Notebook App: In the toolbar, there is an Export menu. Click on it, and select Python script.\n",
    "- Submit `hw3.ipynb` and `hw3.py` on Gradescope under the window \"Homework 3 - code\". Do **NOT** change the file name.\n",
    "- Convert this notebook into a pdf file and submit it on Gradescope under the window \"Homework 3 - PDF\". Make sure all your code and text outputs in the problems are visible. \n",
    "\n",
    "\n",
    "This homework requires two new packages, `pyarrow` and `duckdb`. Pleas make sure to install them in your `BIOSTAT203C-24S` environment:\n",
    "\n",
    "```bash\n",
    "conda activate BIOSTAT203C-24S\n",
    "conda install -c conda-forge pyarrow python-duckdb\n",
    "```\n",
    "\n",
    "\n",
    "## Problem 1. \n",
    "\n",
    "Recall the simple random walk.  At each step, we flip a fair coin. If heads, we move \"foward\" one unit; if tails, we move \"backward.\" \n",
    "\n",
    "### (A).\n",
    "\n",
    "Way back in Homework 1, you wrote some code to simulate a random walk in Python. \n",
    "\n",
    "Start with this code. If you have since written random walk code that you prefer, you can use this instead. Regardless, take your code, modify it, and enclose it in a function `rw()`. This function should accept a single argument `n`, the length of the walk. The output should be a list giving the position of the random walker, starting with the position after the first step. For example, \n",
    "\n",
    "```python\n",
    "rw(5)\n",
    "[1, 2, 3, 2, 3]\n",
    "```\n",
    "\n",
    "Unlike in the HW1 problem, you should not use upper or lower bounds. The walk should always run for as long as the user-specified number of steps `n`. \n",
    "\n",
    "Use your function to print out the positions of a random walk of length `n = 10`. \n",
    "\n",
    "Don't forget a helpful docstring! \n",
    "\n",
    "\n"
   ]
  },
  {
   "cell_type": "code",
   "execution_count": 10,
   "id": "631558e0-b863-44a5-9df1-c1de19c1bcec",
   "metadata": {
    "tags": []
   },
   "outputs": [],
   "source": [
    "import random\n",
    "\n",
    "def rw(n):\n",
    "    \"\"\"\n",
    "    Simulates a simple random walk of n steps.\n",
    "    \n",
    "    Args:\n",
    "    n (int): The number of steps in the random walk.\n",
    "    \n",
    "    Returns:\n",
    "    list: A list of integers representing the position of the random walker\n",
    "          after each step, starting from position 0.\n",
    "    \"\"\"\n",
    "    position = 0\n",
    "    walk = []\n",
    "    for _ in range(n):\n",
    "        step = 1 if random.choice([True, False]) else -1\n",
    "        position += step\n",
    "        walk.append(position)\n",
    "    return walk"
   ]
  },
  {
   "cell_type": "code",
   "execution_count": 11,
   "id": "93919be8-5190-4b8a-8724-957a89b01be1",
   "metadata": {
    "tags": []
   },
   "outputs": [
    {
     "data": {
      "text/plain": [
       "[1, 2, 1, 2, 1, 0, -1, -2, -3, -4]"
      ]
     },
     "execution_count": 11,
     "metadata": {},
     "output_type": "execute_result"
    }
   ],
   "source": [
    "rw(10)"
   ]
  },
  {
   "cell_type": "markdown",
   "id": "678abaa8-a334-47e1-81f6-590724c0a75f",
   "metadata": {},
   "source": [
    "### (B). \n",
    "\n",
    "Now create a function called `rw2(n)`, where the argument `n` means the same thing that it did in Part A. Do so using `numpy` tools. Demonstrate your function as above, by creating a random walk of length 10. You can (and should) return your walk as a `numpy` array. \n",
    "\n",
    "**Requirements**: \n",
    "\n",
    "- No for-loops. \n",
    "- This function is simple enough to be implemented as a one-liner of fewer than 80 characters, using lambda notation. Even if you choose not to use lambda notation, the body of your function definition should be no more than three lines long. Importing `numpy` does not count as a line. \n",
    "- A docstring is required if and only if you take more than one line to define the function. \n",
    "\n",
    "**Hints**:\n",
    "\n",
    "- Check the documentation for `np.random.choice()`. \n",
    "- `np.cumsum()`. \n"
   ]
  },
  {
   "cell_type": "code",
   "execution_count": 12,
   "id": "12034fa4-96d0-4be7-bda6-12887e58e577",
   "metadata": {
    "tags": []
   },
   "outputs": [],
   "source": [
    "import numpy as np\n",
    "\n",
    "def rw2(n):\n",
    "    \"\"\"\n",
    "    Generates a random walk of n steps using numpy.\n",
    "    \n",
    "    Args:\n",
    "    n (int): The number of steps in the random walk.\n",
    "    \n",
    "    Returns:\n",
    "    numpy.ndarray: An array of positions after each step.\n",
    "    \"\"\"\n",
    "    steps = np.random.choice([-1, 1], size=n)\n",
    "    return np.cumsum(steps)\n"
   ]
  },
  {
   "cell_type": "code",
   "execution_count": 13,
   "id": "adf11e04-ce19-41fc-9925-5e106257e275",
   "metadata": {
    "tags": []
   },
   "outputs": [
    {
     "data": {
      "text/plain": [
       "array([-1,  0, -1, -2, -1,  0, -1, -2, -3, -4])"
      ]
     },
     "execution_count": 13,
     "metadata": {},
     "output_type": "execute_result"
    }
   ],
   "source": [
    "rw2(10)"
   ]
  },
  {
   "cell_type": "markdown",
   "id": "0ad5c360-3302-4375-a151-ab3a63ec5fa3",
   "metadata": {},
   "source": [
    "### (C).\n",
    "import timeit\n",
    "Use the `%timeit` magic macro to compare the runtime of `rw()` and `rw2()`. Test how each function does in computing a random walk of length `n = 10000`. "
   ]
  },
  {
   "cell_type": "code",
   "execution_count": 14,
   "id": "6776f504-9808-48f8-bc10-e15b84ba33aa",
   "metadata": {
    "tags": []
   },
   "outputs": [
    {
     "name": "stdout",
     "output_type": "stream",
     "text": [
      "Time taken by rw(): 0.03634925000369549 seconds\n",
      "Time taken by rw2(): 0.000992374960333109 seconds\n"
     ]
    }
   ],
   "source": [
    "import timeit\n",
    "\n",
    "rw_time = timeit.timeit('rw(10000)', globals=globals(), number=10)\n",
    "rw2_time = timeit.timeit('rw2(10000)', globals=globals(), number=10)\n",
    "\n",
    "print(f\"Time taken by rw(): {rw_time} seconds\")"
   ]
  },
  {
   "cell_type": "markdown",
   "id": "4fbea2f6-1e39-415a-aa16-defe9ba79268",
   "metadata": {
    "tags": []
   },
   "source": [
    "### (D). \n",
    "\n",
    "Write a few sentences in which you comment on (a) the performance of each function and (b) the ease of writing and reading each function. "
   ]
  },
  {
   "cell_type": "markdown",
   "id": "dcb07b4c-72b3-4db3-b7bd-ffe8da01e9d7",
   "metadata": {},
   "source": [
    "## Answer:\n",
    "(a): It is clear that rw2() function is much faster than rw() function since numpy can optimize the operations.\n",
    "\n",
    "(b): rw() is straightforward and it just uses basic python knowledge. It is easy to write with longer codes but hard to read.\n",
    "\n",
    "rw2() may require knowledge of numpy package but it is simple to both write and read compared to rw()."
   ]
  },
  {
   "cell_type": "markdown",
   "id": "d85b5fcb-9c45-4a16-8642-1e47216ccbc4",
   "metadata": {},
   "source": [
    "### (E). \n",
    "\n",
    "\n",
    "In this problem, we will perform a `d`-dimensional random walk. There are many ways to define such a walk. Here's the definition we'll use for this problem: \n",
    "\n",
    "> At each timestep, the walker takes one random step forward or backward **in each of `d` directions.** \n",
    "\n",
    "For example, in a two-dimensional walk on a grid, in each timestep the walker would take a step either north or south, and then another step either east or west. Another way to think about is as the walker taking a single \"diagonal\" step either northeast, southeast, southwest, or northwest. \n",
    "\n",
    "Write a function called `rw_d(n,d)` that implements a `d`-dimensional random walk. `n` is again the number of steps that the walker should take, and `d` is the dimension of the walk. The output should be given as a `numpy` array of shape `(n,d)`, where the `k`th row of the array specifies the position of the walker after `k` steps. For example: \n",
    "\n",
    "```python\n",
    "P = rw_d(5, 3)\n",
    "P\n",
    "```\n",
    "```\n",
    "array([[-1, -1, -1],\n",
    "       [ 0, -2, -2],\n",
    "       [-1, -3, -3],\n",
    "       [-2, -2, -2],\n",
    "       [-1, -3, -1]])\n",
    "```\n",
    "\n",
    "In this example, the third row `P[2,:] = [-1, -3, -3]` gives the position of the walk after 3 steps. \n",
    "\n",
    "Demonstrate your function by generating a 3d walk with 5 steps, as shown in the example above. \n",
    "\n",
    "All the same requirements and hints from Part B apply in this problem as well. It should be possible to solve this problem by making only a few small modifications to your solution from Part B. If you are finding that this is not possible, you may want to either (a) read the documentation for the relevant `numpy` functions more closely or (b) reconsider your Part B approach. \n",
    "\n",
    "\n",
    "\n"
   ]
  },
  {
   "cell_type": "code",
   "execution_count": 15,
   "id": "7caa71ea-4459-47d4-8bb2-48c45e12950f",
   "metadata": {
    "tags": []
   },
   "outputs": [],
   "source": [
    "def rw_d(n, d):\n",
    "    \"\"\"\n",
    "    Simulates a d-dimensional random walk.\n",
    "\n",
    "    Parameters:\n",
    "    n (int): Number of steps in the random walk.\n",
    "    d (int): Number of dimensions of the walk.\n",
    "\n",
    "    Returns:\n",
    "    np.ndarray: An array of shape (n, d) where each row represents the position\n",
    "                of the walker after each step.\n",
    "    \"\"\"\n",
    "    # Generate steps: -1 for backward, 1 for forward\n",
    "    steps = np.random.choice([-1, 1], size=(n, d))\n",
    "    # Compute cumulative sum to get the position after each step\n",
    "    return np.cumsum(steps, axis=0)"
   ]
  },
  {
   "cell_type": "code",
   "execution_count": 16,
   "id": "aeecb793-387b-40a1-bcaa-793fe3a61399",
   "metadata": {
    "tags": []
   },
   "outputs": [
    {
     "data": {
      "text/plain": [
       "array([[-1,  1,  1],\n",
       "       [ 0,  2,  2],\n",
       "       [-1,  3,  3],\n",
       "       [-2,  4,  2],\n",
       "       [-1,  3,  3]])"
      ]
     },
     "execution_count": 16,
     "metadata": {},
     "output_type": "execute_result"
    }
   ],
   "source": [
    "rw_d(5, 3)"
   ]
  },
  {
   "cell_type": "markdown",
   "id": "5b383552-1ec5-4bd1-9c7b-b67dc7fe67cb",
   "metadata": {},
   "source": [
    "### (F).\n",
    "\n",
    "In a few sentences, describe how you would have solved Part E without `numpy` tools. Take a guess as to how many lines it would have taken you to define the appropriate function. Based on your findings in Parts C and D, how would you expect its performance to compare to your `numpy`-based function from Part E? Which approach would your recommend? \n",
    "\n",
    "Note: while I obviously prefer the `numpy` approach, it is reasonable and valid to prefer the \"vanilla\" way instead. Either way, you should be ready to justify your preference on the basis of writeability, readability, and performance. "
   ]
  },
  {
   "cell_type": "markdown",
   "id": "a1fb2f93-1860-43f9-ae4b-87d4da705c2e",
   "metadata": {
    "tags": []
   },
   "source": [
    "## Answer:\n",
    "Without nummpy, we would use the approach as below:\n",
    "1. initialize an empty list to store the random walk\n",
    "2. for each step, create a new list to represent the current position\n",
    "3. for each dimension, decide where to move randomly\n",
    "4. update the current position\n",
    "Roughly the code should be look like this:"
   ]
  },
  {
   "cell_type": "code",
   "execution_count": 17,
   "id": "39a7653d-c172-4186-80da-1e494518ff3a",
   "metadata": {
    "tags": []
   },
   "outputs": [],
   "source": [
    "def rw_d_vanilla(n, d):\n",
    "    walk = []\n",
    "    for step in range(n):\n",
    "        current_position = [0] * d if step == 0 else walk[-1].copy()\n",
    "        for dimension in range(d):\n",
    "            current_position[dimension] += random.choice([-1, 1])\n",
    "        walk.append(current_position)\n",
    "    return walk"
   ]
  },
  {
   "cell_type": "markdown",
   "id": "d64faff3-0fc0-4771-81fe-9bdb7a8e3c78",
   "metadata": {},
   "source": [
    "The performance of vanilla approach will be much slower than numpy approach. I would recommend to use numpy approach.\n",
    "Compared to vanilla approach, numpy approach has better writeability, readability, and performance."
   ]
  },
  {
   "cell_type": "markdown",
   "id": "b307e8e5-1278-4bba-b22f-bf7816eb43c8",
   "metadata": {},
   "source": [
    "### (G).\n",
    "\n",
    "Once you've implemented `rw_d()`, you can run the following code to generate a large random walk and visualize it. \n",
    "\n",
    "```python\n",
    "from matplotlib import pyplot as plt\n",
    "\n",
    "W = rw_d(20000, 2)\n",
    "plt.plot(W[:,0], W[:,1])\n",
    "```\n",
    "\n",
    "You may be interested in looking at several other visualizations of multidimensional random walks [on Wikipedia](https://en.wikipedia.org/wiki/Random_walk). Your result in this part will not look exactly the same, but should look qualitatively fairly similar. \n",
    "\n",
    "You only need to show one plot. If you like, you might enjoy playing around with the plot settings. While `ax.plot()` is the normal method to use here, `ax.scatter()` with partially transparent points can also produce some intriguing images. "
   ]
  },
  {
   "cell_type": "code",
   "execution_count": 18,
   "id": "0da1d9e7-9625-445d-b3c9-a9957d2b435c",
   "metadata": {
    "tags": []
   },
   "outputs": [
    {
     "data": {
      "text/plain": [
       "[<matplotlib.lines.Line2D at 0x12ad23dd0>]"
      ]
     },
     "execution_count": 18,
     "metadata": {},
     "output_type": "execute_result"
    },
    {
     "data": {
      "image/png": "[encoded data removed]",
      "text/plain": [
       "<Figure size 640x480 with 1 Axes>"
      ]
     },
     "metadata": {},
     "output_type": "display_data"
    }
   ],
   "source": [
    "from matplotlib import pyplot as plt\n",
    "\n",
    "W = rw_d(20000, 2)\n",
    "plt.plot(W[:,0], W[:,1])"
   ]
  },
  {
   "cell_type": "markdown",
   "id": "def78985-0fc4-4ac7-a804-4debe01426b4",
   "metadata": {},
   "source": [
    "## Problem 2. Reading MIMIC-IV datafile\n",
    "In this exercise, we explore various tools for ingesting the [MIMIC-IV](https://mimic.mit.edu/docs/iv/) data introduced in BIOSTAT 203B, but we will do it in Python this time.\n",
    "\n",
    "Let's display the contents of MIMIC `hosp` and `icu` data folders: (if a cell starts with a `!`, the command is run in the shell.)"
   ]
  },
  {
   "cell_type": "code",
   "execution_count": 20,
   "id": "1948eaab-6f54-482a-a0ca-b1fa36a38f4c",
   "metadata": {
    "tags": []
   },
   "outputs": [
    {
     "name": "stdout",
     "output_type": "stream",
     "text": [
      "total 8859752\n",
      "-rw-r--r--@ 1 wang  staff    15516088 Jan 22 15:01 admissions.csv.gz\n",
      "-rw-r--r--@ 1 wang  staff      427468 Jan 22 15:01 d_hcpcs.csv.gz\n",
      "-rw-r--r--@ 1 wang  staff      859438 Jan 22 15:01 d_icd_diagnoses.csv.gz\n",
      "-rw-r--r--@ 1 wang  staff      578517 Jan 22 15:01 d_icd_procedures.csv.gz\n",
      "-rw-r--r--@ 1 wang  staff       12900 Jan 22 15:01 d_labitems.csv.gz\n",
      "-rw-r--r--@ 1 wang  staff    25070720 Jan 22 15:01 diagnoses_icd.csv.gz\n",
      "-rw-r--r--@ 1 wang  staff     7426955 Jan 22 15:01 drgcodes.csv.gz\n",
      "-rw-r--r--@ 1 wang  staff   508524623 Jan 22 15:01 emar.csv.gz\n",
      "-rw-r--r--@ 1 wang  staff   471096030 Jan 22 15:01 emar_detail.csv.gz\n",
      "-rw-r--r--@ 1 wang  staff     1767138 Jan 22 15:01 hcpcsevents.csv.gz\n",
      "-rw-r--r--@ 1 wang  staff  1939088924 Jan 22 15:01 labevents.csv.gz\n",
      "-rw-r--r--@ 1 wang  staff    96698496 Jan 22 15:01 microbiologyevents.csv.gz\n",
      "-rw-r--r--@ 1 wang  staff    36124944 Jan 22 15:01 omr.csv.gz\n",
      "-rw-r--r--@ 1 wang  staff     2312631 Jan 22 15:01 patients.csv.gz\n",
      "-rw-r--r--@ 1 wang  staff   398753125 Jan 22 15:01 pharmacy.csv.gz\n",
      "-rw-r--r--@ 1 wang  staff   498505135 Jan 22 15:01 poe.csv.gz\n",
      "-rw-r--r--@ 1 wang  staff    25477219 Jan 22 15:01 poe_detail.csv.gz\n",
      "-rw-r--r--@ 1 wang  staff   458817415 Jan 22 15:01 prescriptions.csv.gz\n",
      "-rw-r--r--@ 1 wang  staff     6027067 Feb 22 05:46 procedures_icd.csv.gz\n",
      "-rw-r--r--@ 1 wang  staff      122507 Jan 22 15:01 provider.csv.gz\n",
      "-rw-r--r--@ 1 wang  staff     6781247 Jan 22 15:01 services.csv.gz\n",
      "-rw-r--r--@ 1 wang  staff    36158338 Jan 22 15:01 transfers.csv.gz\n"
     ]
    }
   ],
   "source": [
    "!ls -l ~/mimic/hosp/"
   ]
  },
  {
   "cell_type": "code",
   "execution_count": 21,
   "id": "512dcc57-1024-4e42-a2f5-c028ee351d82",
   "metadata": {
    "tags": []
   },
   "outputs": [
    {
     "name": "stdout",
     "output_type": "stream",
     "text": [
      "total 6155968\n",
      "-rw-r--r--@ 1 wang  staff       35893 Jan 22 15:01 caregiver.csv.gz\n",
      "-rw-r--r--@ 1 wang  staff  2467761053 Jan 22 15:01 chartevents.csv.gz\n",
      "-rw-r--r--@ 1 wang  staff       57476 Jan 22 15:01 d_items.csv.gz\n",
      "-rw-r--r--@ 1 wang  staff    45721062 Jan 22 15:01 datetimeevents.csv.gz\n",
      "-rw-r--r--@ 1 wang  staff     2614571 Jan 22 15:01 icustays.csv.gz\n",
      "-rw-r--r--@ 1 wang  staff   251962313 Jan 22 15:01 ingredientevents.csv.gz\n",
      "-rw-r--r--@ 1 wang  staff   324218488 Jan 22 15:01 inputevents.csv.gz\n",
      "-rw-r--r--@ 1 wang  staff    38747895 Jan 22 15:01 outputevents.csv.gz\n",
      "-rw-r--r--@ 1 wang  staff    20717852 Jan 22 15:01 procedureevents.csv.gz\n"
     ]
    }
   ],
   "source": [
    "!ls -l ~/mimic/icu/"
   ]
  },
  {
   "cell_type": "markdown",
   "id": "c9b9d704-df48-4dc8-a3d2-35747b75f2f8",
   "metadata": {},
   "source": [
    "### (A). Speed, memory, and data types\n",
    "\n",
    "Standard way to read a CSV file would be using the `read_csv` function of the `pandas` package. Let us check the speed of reading a moderate-sized compressed csv file, `admissions.csv.gz`. How much memory does the resulting data frame use?\n",
    "\n",
    "_Note:_ If you start a cell with `%%time`, the runtime will be measured. "
   ]
  },
  {
   "cell_type": "code",
   "execution_count": 22,
   "id": "73258362-fb47-405c-80a4-a7d79e73409c",
   "metadata": {
    "tags": []
   },
   "outputs": [
    {
     "name": "stdout",
     "output_type": "stream",
     "text": [
      "CPU times: user 695 ms, sys: 177 ms, total: 872 ms\n",
      "Wall time: 898 ms\n"
     ]
    }
   ],
   "source": [
    "%%time\n",
    "# your code here\n",
    "import pandas as pd\n",
    "file_path = '~/mimic/hosp/admissions.csv.gz'\n",
    "df = pd.read_csv(file_path)"
   ]
  },
  {
   "cell_type": "code",
   "execution_count": 23,
   "id": "7ab09d40-a407-4c5d-b660-a4e2fd7ec4c5",
   "metadata": {
    "tags": []
   },
   "outputs": [
    {
     "name": "stdout",
     "output_type": "stream",
     "text": [
      "Memory Usage (in bytes): 368387448\n"
     ]
    }
   ],
   "source": [
    "print(\"Memory Usage (in bytes):\", df.memory_usage(deep=True).sum())"
   ]
  },
  {
   "cell_type": "markdown",
   "id": "e1491db4-c6ea-4ad1-8071-42c129cb08c3",
   "metadata": {},
   "source": [
    "### (B). User-supplied data types\n",
    "\n",
    "Re-ingest `admissions.csv.gz` by indicating appropriate column data types in [`pd.read_csv`](https://pandas.pydata.org/pandas-docs/stable/reference/api/pandas.read_csv.html). Does the run time change? How much memory does the result dataframe use? (Hint: `dtype` and `parse_dates` arguments in `pd.read_csv`.)"
   ]
  },
  {
   "cell_type": "code",
   "execution_count": 24,
   "id": "2d8a6a2e-8b82-4612-84b7-f45370094b97",
   "metadata": {
    "tags": []
   },
   "outputs": [
    {
     "name": "stdout",
     "output_type": "stream",
     "text": [
      "CPU times: user 827 ms, sys: 72.4 ms, total: 899 ms\n",
      "Wall time: 915 ms\n"
     ]
    }
   ],
   "source": [
    "%%time\n",
    "dtype_dict = {\n",
    "    'subject_id': 'int32',\n",
    "    'hadm_id': 'int32',\n",
    "    'admittime': 'str',\n",
    "    'dischtime': 'str',\n",
    "    'deathtime': 'str',\n",
    "    'admission_type': 'category',\n",
    "    'admission_location': 'category',\n",
    "    'discharge_location': 'category',\n",
    "    'insurance': 'category',\n",
    "    'language': 'category',\n",
    "    'religion': 'category',\n",
    "    'marital_status': 'category',\n",
    "    'ethnicity': 'category',\n",
    "    'edregtime': 'str',\n",
    "    'edouttime': 'str',\n",
    "    'diagnosis': 'str',\n",
    "    'hospital_expire_flag': 'int8',\n",
    "    'has_chartevents_data': 'int8'\n",
    "}\n",
    "\n",
    "# Define which columns should be parsed as dates\n",
    "date_columns = ['admittime', 'dischtime', 'deathtime', 'edregtime', 'edouttime']\n",
    "\n",
    "df = pd.read_csv(file_path, dtype=dtype_dict, parse_dates=date_columns)"
   ]
  },
  {
   "cell_type": "code",
   "execution_count": 25,
   "id": "d29df75f-2d1a-4ca6-a834-d90bf8b502e4",
   "metadata": {
    "tags": []
   },
   "outputs": [
    {
     "name": "stdout",
     "output_type": "stream",
     "text": [
      "Memory Usage (in bytes): 79744478\n"
     ]
    }
   ],
   "source": [
    "print(\"Memory Usage (in bytes):\", df.memory_usage(deep=True).sum())"
   ]
  },
  {
   "cell_type": "markdown",
   "id": "dec6328e-a471-4fbf-b74a-4ca74f695219",
   "metadata": {},
   "source": [
    "## Answer:\n",
    "The rum time does not change much. However, the memory usage of the dataframe is minimized."
   ]
  },
  {
   "cell_type": "markdown",
   "id": "8f95682b-2ed1-40da-99f6-084d2d5c7323",
   "metadata": {
    "tags": []
   },
   "source": [
    "## Problem 3. Ingest big data files\n",
    "\n",
    "\n",
    "Let us focus on a bigger file, `labevents.csv.gz`, which is about 125x bigger than `admissions.csv.gz`."
   ]
  },
  {
   "cell_type": "code",
   "execution_count": 26,
   "id": "edfd22f7-e1a5-4f5a-aca5-04ce598569f2",
   "metadata": {
    "tags": []
   },
   "outputs": [
    {
     "name": "stdout",
     "output_type": "stream",
     "text": [
      "-rw-r--r--@ 1 wang  staff  1939088924 Jan 22 15:01 /Users/wang/mimic/hosp/labevents.csv.gz\n"
     ]
    }
   ],
   "source": [
    "!ls -l ~/mimic/hosp/labevents.csv.gz"
   ]
  },
  {
   "cell_type": "markdown",
   "id": "b5a01b57-8d97-4107-aa33-8b64aa97b048",
   "metadata": {},
   "source": [
    "Display the first 10 lines of this file."
   ]
  },
  {
   "cell_type": "code",
   "execution_count": 27,
   "id": "c3b0364a-21d8-434f-9bba-5b35cbd47c15",
   "metadata": {
    "tags": []
   },
   "outputs": [
    {
     "name": "stdout",
     "output_type": "stream",
     "text": [
      "labevent_id,subject_id,hadm_id,specimen_id,itemid,order_provider_id,charttime,storetime,value,valuenum,valueuom,ref_range_lower,ref_range_upper,flag,priority,comments\n",
      "1,10000032,,45421181,51237,P28Z0X,2180-03-23 11:51:00,2180-03-23 15:15:00,1.4,1.4,,0.9,1.1,abnormal,ROUTINE,\n",
      "2,10000032,,45421181,51274,P28Z0X,2180-03-23 11:51:00,2180-03-23 15:15:00,___,15.1,sec,9.4,12.5,abnormal,ROUTINE,VERIFIED.\n",
      "3,10000032,,52958335,50853,P28Z0X,2180-03-23 11:51:00,2180-03-25 11:06:00,___,15,ng/mL,30,60,abnormal,ROUTINE,NEW ASSAY IN USE ___: DETECTS D2 AND D3 25-OH ACCURATELY.\n",
      "4,10000032,,52958335,50861,P28Z0X,2180-03-23 11:51:00,2180-03-23 16:40:00,102,102,IU/L,0,40,abnormal,ROUTINE,\n",
      "5,10000032,,52958335,50862,P28Z0X,2180-03-23 11:51:00,2180-03-23 16:40:00,3.3,3.3,g/dL,3.5,5.2,abnormal,ROUTINE,\n",
      "6,10000032,,52958335,50863,P28Z0X,2180-03-23 11:51:00,2180-03-23 16:40:00,109,109,IU/L,35,105,abnormal,ROUTINE,\n",
      "7,10000032,,52958335,50864,P28Z0X,2180-03-23 11:51:00,2180-03-23 16:40:00,___,8,ng/mL,0,8.7,,ROUTINE,MEASURED BY ___.\n",
      "8,10000032,,52958335,50868,P28Z0X,2180-03-23 11:51:00,2180-03-23 16:40:00,12,12,mEq/L,8,20,,ROUTINE,\n",
      "9,10000032,,52958335,50878,P28Z0X,2180-03-23 11:51:00,2180-03-23 16:40:00,143,143,IU/L,0,40,abnormal,ROUTINE,\n",
      "zcat: error writing to output: Broken pipe\n"
     ]
    }
   ],
   "source": [
    "!zcat < ~/mimic/hosp/labevents.csv.gz | head -10"
   ]
  },
  {
   "cell_type": "markdown",
   "id": "58352877-c834-4488-8ea3-7360c347a754",
   "metadata": {},
   "source": [
    "### (A). Ingest `labevents.csv.gz` by `pd.read_csv`\n",
    "\n",
    "Try to ingest `labevents.csv.gz` using `pd.read_csv`. What happens? If it takes more than 5 minutes on your computer, then abort the program and report your findings. "
   ]
  },
  {
   "cell_type": "code",
   "execution_count": 28,
   "id": "91dedbd3-df91-42a4-961f-bc978c3856ce",
   "metadata": {
    "tags": []
   },
   "outputs": [],
   "source": [
    "# labevents_df = pd.read_csv('~/mimic/hosp/labevents.csv.gz')"
   ]
  },
  {
   "cell_type": "markdown",
   "id": "ee8bb072-e3d5-4102-b741-37011780a924",
   "metadata": {},
   "source": [
    "## Answer:\n",
    "The ingestion runs longer than 5 minutes, so I abort the program. \"pd.read_csv\" is not efficient when we try to ingest a much bigger file."
   ]
  },
  {
   "cell_type": "markdown",
   "id": "d9088997-7a48-4b0b-b331-afab3e837925",
   "metadata": {},
   "source": [
    "### (B). Ingest selected columns of `labevents.csv.gz` by `pd.read_csv`\n",
    "\n",
    "Try to ingest only columns `subject_id`, `itemid`, `charttime`, and `valuenum` in `labevents.csv.gz` using `pd.read_csv`.  Does this solve the ingestion issue? (Hint: `usecols` argument in `pd.read_csv`.)"
   ]
  },
  {
   "cell_type": "code",
   "execution_count": 29,
   "id": "34bdbff9-757b-47cd-9331-dc8faa5091df",
   "metadata": {
    "tags": []
   },
   "outputs": [],
   "source": [
    "import pandas as pd\n",
    "\n",
    "# Define the columns we want to read\n",
    "columns = ['subject_id', 'itemid', 'charttime', 'valuenum']\n",
    "\n",
    "# Read only the specified columns\n",
    "labevents_df = pd.read_csv('~/mimic/hosp/labevents.csv.gz', usecols=columns)"
   ]
  },
  {
   "cell_type": "code",
   "execution_count": 30,
   "id": "0fb24da3-b6f1-45d1-bb76-30f234e9d4de",
   "metadata": {
    "tags": []
   },
   "outputs": [
    {
     "data": {
      "text/html": [
       "<div>\n",
       "<style scoped>\n",
       "    .dataframe tbody tr th:only-of-type {\n",
       "        vertical-align: middle;\n",
       "    }\n",
       "\n",
       "    .dataframe tbody tr th {\n",
       "        vertical-align: top;\n",
       "    }\n",
       "\n",
       "    .dataframe thead th {\n",
       "        text-align: right;\n",
       "    }\n",
       "</style>\n",
       "<table border=\"1\" class=\"dataframe\">\n",
       "  <thead>\n",
       "    <tr style=\"text-align: right;\">\n",
       "      <th></th>\n",
       "      <th>subject_id</th>\n",
       "      <th>itemid</th>\n",
       "      <th>charttime</th>\n",
       "      <th>valuenum</th>\n",
       "    </tr>\n",
       "  </thead>\n",
       "  <tbody>\n",
       "    <tr>\n",
       "      <th>0</th>\n",
       "      <td>10000032</td>\n",
       "      <td>51237</td>\n",
       "      <td>2180-03-23 11:51:00</td>\n",
       "      <td>1.40</td>\n",
       "    </tr>\n",
       "    <tr>\n",
       "      <th>1</th>\n",
       "      <td>10000032</td>\n",
       "      <td>51274</td>\n",
       "      <td>2180-03-23 11:51:00</td>\n",
       "      <td>15.10</td>\n",
       "    </tr>\n",
       "    <tr>\n",
       "      <th>2</th>\n",
       "      <td>10000032</td>\n",
       "      <td>50853</td>\n",
       "      <td>2180-03-23 11:51:00</td>\n",
       "      <td>15.00</td>\n",
       "    </tr>\n",
       "    <tr>\n",
       "      <th>3</th>\n",
       "      <td>10000032</td>\n",
       "      <td>50861</td>\n",
       "      <td>2180-03-23 11:51:00</td>\n",
       "      <td>102.00</td>\n",
       "    </tr>\n",
       "    <tr>\n",
       "      <th>4</th>\n",
       "      <td>10000032</td>\n",
       "      <td>50862</td>\n",
       "      <td>2180-03-23 11:51:00</td>\n",
       "      <td>3.30</td>\n",
       "    </tr>\n",
       "    <tr>\n",
       "      <th>...</th>\n",
       "      <td>...</td>\n",
       "      <td>...</td>\n",
       "      <td>...</td>\n",
       "      <td>...</td>\n",
       "    </tr>\n",
       "    <tr>\n",
       "      <th>118171362</th>\n",
       "      <td>19999987</td>\n",
       "      <td>51279</td>\n",
       "      <td>2145-11-09 05:30:00</td>\n",
       "      <td>3.52</td>\n",
       "    </tr>\n",
       "    <tr>\n",
       "      <th>118171363</th>\n",
       "      <td>19999987</td>\n",
       "      <td>51301</td>\n",
       "      <td>2145-11-09 05:30:00</td>\n",
       "      <td>5.70</td>\n",
       "    </tr>\n",
       "    <tr>\n",
       "      <th>118171364</th>\n",
       "      <td>19999987</td>\n",
       "      <td>50912</td>\n",
       "      <td>2146-02-07 11:13:00</td>\n",
       "      <td>1.10</td>\n",
       "    </tr>\n",
       "    <tr>\n",
       "      <th>118171365</th>\n",
       "      <td>19999987</td>\n",
       "      <td>50920</td>\n",
       "      <td>2146-02-07 11:13:00</td>\n",
       "      <td>NaN</td>\n",
       "    </tr>\n",
       "    <tr>\n",
       "      <th>118171366</th>\n",
       "      <td>19999987</td>\n",
       "      <td>51006</td>\n",
       "      <td>2146-02-07 11:13:00</td>\n",
       "      <td>14.00</td>\n",
       "    </tr>\n",
       "  </tbody>\n",
       "</table>\n",
       "<p>118171367 rows × 4 columns</p>\n",
       "</div>"
      ],
      "text/plain": [
       "           subject_id  itemid            charttime  valuenum\n",
       "0            10000032   51237  2180-03-23 11:51:00      1.40\n",
       "1            10000032   51274  2180-03-23 11:51:00     15.10\n",
       "2            10000032   50853  2180-03-23 11:51:00     15.00\n",
       "3            10000032   50861  2180-03-23 11:51:00    102.00\n",
       "4            10000032   50862  2180-03-23 11:51:00      3.30\n",
       "...               ...     ...                  ...       ...\n",
       "118171362    19999987   51279  2145-11-09 05:30:00      3.52\n",
       "118171363    19999987   51301  2145-11-09 05:30:00      5.70\n",
       "118171364    19999987   50912  2146-02-07 11:13:00      1.10\n",
       "118171365    19999987   50920  2146-02-07 11:13:00       NaN\n",
       "118171366    19999987   51006  2146-02-07 11:13:00     14.00\n",
       "\n",
       "[118171367 rows x 4 columns]"
      ]
     },
     "execution_count": 30,
     "metadata": {},
     "output_type": "execute_result"
    }
   ],
   "source": [
    "labevents_df "
   ]
  },
  {
   "cell_type": "markdown",
   "id": "d9283452-e7c1-4411-b958-a74b8dcdd835",
   "metadata": {},
   "source": [
    "When specifying the columns to ingest, it works."
   ]
  },
  {
   "cell_type": "markdown",
   "id": "dd5c3479-c29f-4f4a-be2e-1cdad8bcb622",
   "metadata": {},
   "source": [
    "### (C). Ingest subset of `labevents.csv.gz`\n",
    "\n",
    "Back in BIOSTAT 203B, our first strategy to handle this big data file was to make a subset of the `labevents` data.  Read the [MIMIC documentation](https://mimic.mit.edu/docs/iv/modules/hosp/labevents/) for the content in data file `labevents.csv.gz`.\n",
    "\n",
    "As before, we will only be interested in the following lab items: creatinine (50912), potassium (50971), sodium (50983), chloride (50902), bicarbonate (50882), hematocrit (51221), white blood cell count (51301), and glucose (50931) and the following columns: `subject_id`, `itemid`, `charttime`, `valuenum`. \n",
    "\n",
    "Run the Bash command to extract these columns and rows from `labevents.csv.gz` and save the result to a new file `labevents_filtered.csv.gz` in the current working directory (Q2.3 of HW2). How long does it take?\n",
    "(_Updated 5/6: You may reuse the file you created last quarter and report the elapsed time from the last quarter for this part._)\n",
    "\n",
    "Display the first 10 lines of the new file `labevents_filtered.csv.gz`. How many lines are in this new file? How long does it take `pd.read_csv()` to ingest `labevents_filtered.csv.gz`?\n"
   ]
  },
  {
   "cell_type": "code",
   "execution_count": 31,
   "id": "1abb6a53-7c9a-4adb-baea-bda420e5d690",
   "metadata": {
    "tags": []
   },
   "outputs": [],
   "source": [
    "!zcat < ~/mimic/hosp/labevents.csv.gz | awk -F, 'BEGIN{OFS=\",\"} {if ($5 == 50912 || $5 == 50971 || $5 == 50983 || $5 == 50902 || $5 == 50882 || $5 == 51221 || $5 == 51301 || $5 == 50931) print $2,$5,$7,$10}' | gzip > labevents_filtered.csv.gz"
   ]
  },
  {
   "cell_type": "code",
   "execution_count": 32,
   "id": "444fbe8d-e779-4c50-a772-62e9886ad4a6",
   "metadata": {
    "tags": []
   },
   "outputs": [
    {
     "name": "stdout",
     "output_type": "stream",
     "text": [
      "10000032,50882,2180-03-23 11:51:00,27\n",
      "10000032,50902,2180-03-23 11:51:00,101\n",
      "10000032,50912,2180-03-23 11:51:00,0.4\n",
      "10000032,50971,2180-03-23 11:51:00,3.7\n",
      "10000032,50983,2180-03-23 11:51:00,136\n",
      "10000032,50931,2180-03-23 11:51:00,95\n",
      "10000032,51221,2180-03-23 11:51:00,45.4\n",
      "10000032,51301,2180-03-23 11:51:00,3\n",
      "10000032,51221,2180-05-06 22:25:00,42.6\n",
      "10000032,51301,2180-05-06 22:25:00,5\n",
      "zcat: error writing to output: Broken pipe\n"
     ]
    }
   ],
   "source": [
    "!zcat < labevents_filtered.csv.gz | head -10"
   ]
  },
  {
   "cell_type": "code",
   "execution_count": 33,
   "id": "d2abbf13-8f11-401e-8835-f79400ff5f77",
   "metadata": {
    "tags": []
   },
   "outputs": [
    {
     "name": "stdout",
     "output_type": "stream",
     "text": [
      " 24855909\n"
     ]
    }
   ],
   "source": [
    "!zcat < labevents_filtered.csv.gz | wc -l"
   ]
  },
  {
   "cell_type": "code",
   "execution_count": 34,
   "id": "1ad4128a-3826-4f95-a6f1-38b876939601",
   "metadata": {
    "tags": []
   },
   "outputs": [
    {
     "name": "stdout",
     "output_type": "stream",
     "text": [
      "CPU times: user 5.45 s, sys: 688 ms, total: 6.14 s\n",
      "Wall time: 6.42 s\n"
     ]
    }
   ],
   "source": [
    "%%time\n",
    "df = pd.read_csv(\"labevents_filtered.csv.gz\")"
   ]
  },
  {
   "cell_type": "markdown",
   "id": "d34bd21a-9780-4700-9604-8252c99aaf40",
   "metadata": {
    "tags": []
   },
   "source": [
    "## Answer:\n",
    "There are 24855909 lines in this new file. It takes 6.38s to ingest."
   ]
  },
  {
   "cell_type": "markdown",
   "id": "35433429-4df8-4d6f-adbf-93dbb35b7ac2",
   "metadata": {},
   "source": [
    "### (D). Review\n",
    "\n",
    "Write several sentences on what Apache Arrow, the Parquet format, and DuckDB are. Imagine you want to explain it to a layman in an elevator, as you did before. (It's OK to copy-paste the sentences from your previous submission.)\n",
    "\n",
    "Also, now is the good time to review [basic SQL commands](https://ucla-biostat-203b.github.io/2024winter/slides/12-dbplyr/dbintro.html) covered in BIOSTAT 203B."
   ]
  },
  {
   "cell_type": "markdown",
   "id": "6c5f5ab2-6f61-4f88-a3ae-6868bbba6892",
   "metadata": {},
   "source": [
    "## Answer:\n",
    "Apache Arrow is a platform to transform data among various database or language data formats using its in-memory columnar format. It is like a bridge between different data formats, and It can lower the time cost as much as possible.\n",
    "\n",
    "Parquet is a data file format to store and retrieve data in an efficient way using column-oriented method. It is like a data warehouse, and it can lower the time cost and file size as much as possible.\n",
    "\n",
    "DuckDB is basically an online analytical processing database. It leverages Structured Query Language (SQL) to analyze data fastly."
   ]
  },
  {
   "cell_type": "markdown",
   "id": "5ff21425-0099-419e-9ff1-575719c54050",
   "metadata": {
    "tags": []
   },
   "source": [
    "### (E). Ingest `labevents.csv.gz` by Apache Arrow (modified 5/6)\n",
    "\n",
    "Our second strategy again is to use [Apache Arrow](https://arrow.apache.org/) for larger-than-memory data analytics. We will use the package `pyarrow`. Unlike in R, this package works with the `csv.gz` format. We don't need to keep the decompressed data on disk. We could just use `dplyr` verbs in R, but here, we need a different set of commands. The core idea behind the commands are still similar, though. There is one notable difference in approach: \n",
    "\n",
    "- R's `arrow` package allowed lazy evaluation but required `csv` file to be decompressed beforehand. \n",
    "- On the other hand, `pyarrow` allows `csv.gz` format, but lazy evaluation is not available. For larger-than-memory data, streaming approach can be used.\n",
    "\n",
    "Follow these steps to ingest the data:\n",
    "- Use [`pyarrow.csv.read_csv`](https://arrow.apache.org/docs/python/generated/pyarrow.csv.read_csv.html) to read in `labevents.csv.gz`. It creates an object of type [`pyarrow.Table`](https://arrow.apache.org/docs/python/generated/pyarrow.Table.html). _If this does not work on your computer, state that fact. It's OK to not complete this part in that case. However, you still need the `filter_table()` function for the next part. It's still recommend to _\n",
    "\n",
    "- Define a function `filter_table()` that takes in a `pyarrow.Table` as an argument, and returns `pyarrow.Table` doing the following:\n",
    "    - Select columns using the [`.select()`](https://arrow.apache.org/docs/python/generated/pyarrow.Table.html#pyarrow.Table.select) method. \n",
    "    - Filter the rows based on the column `itemid` using the [`.filter()`](https://arrow.apache.org/docs/python/generated/pyarrow.Table.html#pyarrow.Table.filter) method. You should use [`Expression`](https://arrow.apache.org/docs/python/generated/pyarrow.dataset.Expression) for improved performance. In particular, use the `isin()` method for constructing it.\n",
    "    \n",
    "- Finally, let's obtain the result in `pandas` `DataFrame` using the method `.to_pandas()`. \n",
    "\n",
    "How long does the ingest+select+filter process take? Display the number of rows and the first 10 rows of the result dataframe, and make sure they match those of (C).\n"
   ]
  },
  {
   "cell_type": "code",
   "execution_count": 1,
   "id": "b7ec9bfa-f8ca-4461-83a0-517a2b6a9738",
   "metadata": {
    "tags": []
   },
   "outputs": [],
   "source": [
    "import pyarrow.csv as pc\n",
    "import pyarrow as pa\n",
    "import pandas as pd"
   ]
  },
  {
   "cell_type": "code",
   "execution_count": 2,
   "id": "002ae6e1-94d8-4fbf-96a0-8927a535522c",
   "metadata": {
    "tags": []
   },
   "outputs": [],
   "source": [
    "# Define the filter_table function\n",
    "def filter_table(table):\n",
    "    # Selecting columns\n",
    "    table = table.select(['subject_id', 'itemid', 'charttime', 'valuenum'])\n",
    "\n",
    "    # Filtering rows based on itemid\n",
    "    item_ids = pa.array([50912, 50971, 50983, 50902, 50882, 51221, 51301, 50931])\n",
    "    expression = pa.compute.is_in(table['itemid'], value_set=item_ids)\n",
    "    filtered_table = table.filter(expression)\n",
    "\n",
    "    return filtered_table"
   ]
  },
  {
   "cell_type": "code",
   "execution_count": null,
   "id": "ddbc6dad-59f9-402d-9ae5-2d4f5accdf03",
   "metadata": {
    "tags": []
   },
   "outputs": [],
   "source": [
    "# %%time\n",
    "\n",
    "# # Define the path to the CSV file\n",
    "# csv_path = '~/mimic/hosp/labevents.csv.gz'\n",
    "\n",
    "# # Read the CSV file using PyArrow\n",
    "# table = pc.read_csv(csv_path)\n",
    "\n",
    "# # Applying the filtering function\n",
    "# filtered_table = filter_table(table)\n",
    "\n",
    "# # Convert to Pandas DataFrame\n",
    "# df = filtered_table.to_pandas()\n",
    "# print(df.head())"
   ]
  },
  {
   "cell_type": "markdown",
   "id": "48ba90e2-25ba-4a56-859a-becd3ac627a2",
   "metadata": {},
   "source": [
    "It does not work on my computer."
   ]
  },
  {
   "cell_type": "markdown",
   "id": "bfee442e-4a62-4548-83bb-1ff3d70b8661",
   "metadata": {},
   "source": [
    "### (F). Streaming data (added 5/6)\n",
    "\n",
    "When working with the `csv.gz` file, the entire file will need to be decompressed in memory, which might not be feasible. You can stream data, and processing them in several chunks that fits into the memory.\n",
    "\n",
    "If the function `filter_table()` is defined correctly, the following should successfully ingest the data. Discuss what this code is doing in markdown. Also, add sufficient comment to the code. "
   ]
  },
  {
   "cell_type": "code",
   "execution_count": 33,
   "id": "8a3b7c77-96a0-4286-b437-32a764d2938d",
   "metadata": {
    "tags": []
   },
   "outputs": [
    {
     "name": "stdout",
     "output_type": "stream",
     "text": [
      "CPU times: user 1min 22s, sys: 2.21 s, total: 1min 24s\n",
      "Wall time: 1min 7s\n"
     ]
    }
   ],
   "source": [
    "%%time\n",
    "# The code for this part is given directly for you. \n",
    "# Discuss what this code is doing in text and using comment.\n",
    "import pyarrow as pa\n",
    "import pyarrow.parquet as pq\n",
    "import pyarrow.csv\n",
    "\n",
    "# Define the path to the compressed CSV file.\n",
    "in_path = '~/mimic/hosp/labevents.csv.gz'\n",
    "\n",
    "# Initialize a variable to hold the filtered data.\n",
    "filtered = None\n",
    "\n",
    "# Use PyArrow to open the CSV file. The 'open_csv' function returns a reader object \n",
    "# that allows streaming the file content.\n",
    "with pyarrow.csv.open_csv(in_path) as reader:\n",
    "    # Iterate over the file in chunks. Each chunk is read as needed, reducing memory usage.\n",
    "    for next_chunk in reader:\n",
    "        # If no more data is available, exit the loop.\n",
    "        if next_chunk is None:\n",
    "            break\n",
    "        # Convert the chunk to a PyArrow Table. This is necessary to use PyArrow's data filtering functions.\n",
    "        next_table = pa.Table.from_batches([next_chunk])\n",
    "        # Apply the filter_table function to extract relevant data from the current chunk.\n",
    "        next_subset = filter_table(next_table)\n",
    "        # If this is the first chunk being processed, initialize 'filtered' with it.\n",
    "        if filtered is None:\n",
    "            filtered = next_subset\n",
    "        else:\n",
    "            # If 'filtered' already contains data, concatenate the new subset to it.\n",
    "            filtered = pa.concat_tables([filtered,\n",
    "                                      next_subset])\n",
    "# Once all chunks have been processed and concatenated, convert the final PyArrow Table to a Pandas DataFrame.\n",
    "filtered_df = filtered.to_pandas()"
   ]
  },
  {
   "cell_type": "markdown",
   "id": "3349e873-3c30-4650-96bc-02ef9b13dbe1",
   "metadata": {},
   "source": [
    "### (G). Convert `labevents.csv.gz` to Parquet format and ingest/select/filter\n",
    "\n",
    "Re-write the csv.gz file `labevents.csv.gz` in the binary Parquet format using the code below. Add comments to the code. How large is the Parquet file(s)?"
   ]
  },
  {
   "cell_type": "code",
   "execution_count": 23,
   "id": "30d371ba-187d-4545-a0a9-1dcea9969df6",
   "metadata": {
    "tags": []
   },
   "outputs": [
    {
     "name": "stdout",
     "output_type": "stream",
     "text": [
      "CPU times: user 1min 54s, sys: 3.26 s, total: 1min 57s\n",
      "Wall time: 1min 40s\n"
     ]
    }
   ],
   "source": [
    "%%time\n",
    "\n",
    "import pyarrow.parquet as pq\n",
    "import pyarrow.compute as pc\n",
    "import pyarrow as pa\n",
    "# The code for this part is given directly for you. \n",
    "# Add comments.\n",
    "\n",
    "# Define the path to the input CSV file and the output Parquet file.\n",
    "in_path = '~/mimic/hosp/labevents.csv.gz'\n",
    "out_path = 'labevents.parquet'\n",
    "\n",
    "# Initialize a variable to hold the Parquet writer object.\n",
    "writer = None\n",
    "\n",
    "# Open the CSV file for reading. This method allows processing the file in chunks.\n",
    "with pyarrow.csv.open_csv(in_path) as reader:\n",
    "    # Iterate over chunks of the CSV file.\n",
    "    for next_chunk in reader:\n",
    "        # Break the loop if no more data is available (end of file).\n",
    "        if next_chunk is None:\n",
    "            break\n",
    "        # Initialize the Parquet writer with the schema of the first chunk if it hasn't been initialized.\n",
    "        if writer is None:\n",
    "            writer = pq.ParquetWriter(out_path, next_chunk.schema)\n",
    "        # Convert the current chunk into a PyArrow Table.\n",
    "        next_table = pa.Table.from_batches([next_chunk])\n",
    "        # Write the Table to the Parquet file.\n",
    "        writer.write_table(next_table)\n",
    "# Ensure to close the Parquet writer to finalize the file and free resources.\n",
    "writer.close()"
   ]
  },
  {
   "cell_type": "markdown",
   "id": "a3ccbe0e-378d-4b9e-8d9f-43511fdaff3d",
   "metadata": {},
   "source": [
    "How long does the ingest+select+filter process of the Parquet file(s) take? \n",
    "Display the number of rows and the first 10 rows of the result dataframe and make sure they match those in Part (C). \n",
    "\n",
    "__This should be significantly faster than all the previous results.__ \n",
    "_Hint._ Use [`pyarrow.parquet.read_table`](https://arrow.apache.org/docs/python/generated/pyarrow.parquet.read_table.html) method with the keyword argument `columns`. Also, make sure that you are using an `Expression` for the filtering step. "
   ]
  },
  {
   "cell_type": "code",
   "execution_count": 24,
   "id": "a2f2f003-1ba3-4a3d-8b7d-0a79e9ababd9",
   "metadata": {
    "tags": []
   },
   "outputs": [
    {
     "name": "stdout",
     "output_type": "stream",
     "text": [
      "CPU times: user 4.61 s, sys: 5.06 s, total: 9.67 s\n",
      "Wall time: 15.3 s\n"
     ]
    }
   ],
   "source": [
    "%%time\n",
    "\n",
    "# Define the path to the Parquet file\n",
    "parquet_path = 'labevents.parquet'\n",
    "\n",
    "# Specify the columns of interest\n",
    "columns_of_interest = ['subject_id', 'itemid', 'charttime', 'valuenum']\n",
    "\n",
    "# Define the lab items of interest as in Part (C)\n",
    "lab_items = [50912, 50971, 50983, 50902, 50882, 51221, 51301, 50931]\n",
    "\n",
    "# Read the Parquet file filtering the necessary columns and rows\n",
    "table = pq.read_table(parquet_path, columns=columns_of_interest)\n",
    "\n",
    "# Define filter expression using the is_in() function and SetLookupOptions for better performance\n",
    "filter_expression = pc.is_in(table['itemid'], value_set=pa.array(lab_items))\n",
    "\n",
    "# Filter the table based on the itemid column\n",
    "filtered_table = table.filter(filter_expression)\n",
    "\n",
    "# Convert to Pandas DataFrame\n",
    "df = filtered_table.to_pandas()"
   ]
  },
  {
   "cell_type": "code",
   "execution_count": 25,
   "id": "001e8df3-7051-4e88-9d9a-8511052d2ba0",
   "metadata": {
    "tags": []
   },
   "outputs": [
    {
     "name": "stdout",
     "output_type": "stream",
     "text": [
      "24855909\n",
      "   subject_id  itemid           charttime  valuenum\n",
      "0    10000032   50882 2180-03-23 11:51:00      27.0\n",
      "1    10000032   50902 2180-03-23 11:51:00     101.0\n",
      "2    10000032   50912 2180-03-23 11:51:00       0.4\n",
      "3    10000032   50971 2180-03-23 11:51:00       3.7\n",
      "4    10000032   50983 2180-03-23 11:51:00     136.0\n",
      "5    10000032   50931 2180-03-23 11:51:00      95.0\n",
      "6    10000032   51221 2180-03-23 11:51:00      45.4\n",
      "7    10000032   51301 2180-03-23 11:51:00       3.0\n",
      "8    10000032   51221 2180-05-06 22:25:00      42.6\n",
      "9    10000032   51301 2180-05-06 22:25:00       5.0\n"
     ]
    }
   ],
   "source": [
    "print(df.shape[0])\n",
    "print(df.head(10))"
   ]
  },
  {
   "cell_type": "markdown",
   "id": "0f4639ef-37de-4b64-98e9-8b23361199a7",
   "metadata": {},
   "source": [
    "It takes 9.67s for ingest+select+filter process. There are 24855909 rows and both the number of rows and the first 10 rows are the same with part(C)."
   ]
  },
  {
   "cell_type": "markdown",
   "id": "1d97b623-6c1d-4db4-a604-ec35841dbc8e",
   "metadata": {},
   "source": [
    "### (H). DuckDB\n",
    "\n",
    "Let's use `duckdb` package in Python to use the DuckDB interface. In Python, DuckDB can interact smoothly with `pandas` and `pyarrow`. I recommend reading: \n",
    "\n",
    "- https://duckdb.org/2021/05/14/sql-on-pandas.html\n",
    "- https://duckdb.org/docs/guides/python/sql_on_arrow.html\n",
    "\n",
    "In Python, you will mostly use SQL commands to work with DuckDB. Check out the [data ingestion API](https://duckdb.org/docs/api/python/data_ingestion).\n",
    "\n",
    "\n",
    "Ingest the Parquet file, select columns, and filter rows as in (F). How long does the ingest+select+filter process take? Please make sure to call `.df()` method to have the final result as a `pandas` `DataFrame`. Display the number of rows and the first 10 rows of the result dataframe and make sure they match those in (C). \n",
    "\n",
    "__This should be significantly faster than the results before (but not including) Part (F).__ \n",
    "_Hint_: It could be a single SQL command.\n"
   ]
  },
  {
   "cell_type": "code",
   "execution_count": 31,
   "id": "c08f86d3-c095-4638-9626-4a33c8ca3d8b",
   "metadata": {
    "tags": []
   },
   "outputs": [
    {
     "data": {
      "application/vnd.jupyter.widget-view+json": {
       "model_id": "21ab5a2a67764a93a286afceba7655e3",
       "version_major": 2,
       "version_minor": 0
      },
      "text/plain": [
       "FloatProgress(value=0.0, layout=Layout(width='auto'), style=ProgressStyle(bar_color='black'))"
      ]
     },
     "metadata": {},
     "output_type": "display_data"
    },
    {
     "name": "stdout",
     "output_type": "stream",
     "text": [
      "Number of rows: 24855909\n",
      "   subject_id  itemid           charttime  valuenum\n",
      "0    10000032   50882 2180-03-23 11:51:00      27.0\n",
      "1    10000032   50902 2180-03-23 11:51:00     101.0\n",
      "2    10000032   50912 2180-03-23 11:51:00       0.4\n",
      "3    10000032   50971 2180-03-23 11:51:00       3.7\n",
      "4    10000032   50983 2180-03-23 11:51:00     136.0\n",
      "5    10000032   50931 2180-03-23 11:51:00      95.0\n",
      "6    10000032   51221 2180-03-23 11:51:00      45.4\n",
      "7    10000032   51301 2180-03-23 11:51:00       3.0\n",
      "8    10000032   51221 2180-05-06 22:25:00      42.6\n",
      "9    10000032   51301 2180-05-06 22:25:00       5.0\n",
      "CPU times: user 6.09 s, sys: 3.99 s, total: 10.1 s\n",
      "Wall time: 6.88 s\n"
     ]
    }
   ],
   "source": [
    "%%time\n",
    "import duckdb\n",
    "import pandas as pd\n",
    "\n",
    "# Define the path to the Parquet file\n",
    "parquet_path = 'labevents.parquet'\n",
    "\n",
    "# Connect to DuckDB\n",
    "con = duckdb.connect()\n",
    "\n",
    "# Define the SQL query\n",
    "query = \"\"\"\n",
    "SELECT subject_id, itemid, charttime, valuenum\n",
    "FROM read_parquet('labevents.parquet')\n",
    "WHERE itemid IN (50912, 50971, 50983, 50902, 50882, 51221, 51301, 50931)\n",
    "\"\"\"\n",
    "\n",
    "# Execute the query and get the result as a pandas DataFrame\n",
    "df = con.execute(query).df()\n",
    "\n",
    "# Display the number of rows\n",
    "print(\"Number of rows:\", len(df))\n",
    "\n",
    "# Display the first 10 rows\n",
    "print(df.head(10))\n",
    "\n",
    "# Close the DuckDB connection\n",
    "con.close()\n"
   ]
  },
  {
   "cell_type": "markdown",
   "id": "2cae66d7-7e33-4bf5-b3b4-86bf4f597669",
   "metadata": {},
   "source": [
    "It takes 10.1s for ingest+select+filter process. The first 10 rows are the same with part(C)."
   ]
  },
  {
   "cell_type": "markdown",
   "id": "2b97f3d1-0916-4c2c-a217-000107309c7e",
   "metadata": {},
   "source": [
    "### (I). Comparison (added 5/6)\n",
    "Compare your results with those from Homework 2 of BIOSTAT 203B. "
   ]
  },
  {
   "cell_type": "markdown",
   "id": "198010b7-5a8c-4eb1-bbdf-cc9bf35c623a",
   "metadata": {},
   "source": [
    "## Answer:\n",
    "The result of first 10 rows are exactly the same with Homework 2 of BIOSTAT 203B."
   ]
  },
  {
   "cell_type": "markdown",
   "id": "02da79d3-c8ec-4785-a9c3-3a5fc63de358",
   "metadata": {},
   "source": [
    "## Problem 4. Ingest and filter `chartevents.csv.gz`\n",
    "\n",
    "[`chartevents.csv.gz`](https://mimic.mit.edu/docs/iv/modules/icu/chartevents/) contains all the charted data available for a patient. During their ICU stay, the primary repository of a patient’s information is their electronic chart. The `itemid` variable indicates a single measurement type in the database. The `value` variable is the value measured for `itemid`. The first 10 lines of `chartevents.csv.gz` are\n"
   ]
  },
  {
   "cell_type": "code",
   "execution_count": 1,
   "id": "69d1f3a0-6342-42f9-9902-44030612c6d1",
   "metadata": {
    "tags": []
   },
   "outputs": [
    {
     "name": "stdout",
     "output_type": "stream",
     "text": [
      "subject_id,hadm_id,stay_id,caregiver_id,charttime,storetime,itemid,value,valuenum,valueuom,warning\n",
      "10000032,29079034,39553978,47007,2180-07-23 21:01:00,2180-07-23 22:15:00,220179,82,82,mmHg,0\n",
      "10000032,29079034,39553978,47007,2180-07-23 21:01:00,2180-07-23 22:15:00,220180,59,59,mmHg,0\n",
      "10000032,29079034,39553978,47007,2180-07-23 21:01:00,2180-07-23 22:15:00,220181,63,63,mmHg,0\n",
      "10000032,29079034,39553978,47007,2180-07-23 22:00:00,2180-07-23 22:15:00,220045,94,94,bpm,0\n",
      "10000032,29079034,39553978,47007,2180-07-23 22:00:00,2180-07-23 22:15:00,220179,85,85,mmHg,0\n",
      "10000032,29079034,39553978,47007,2180-07-23 22:00:00,2180-07-23 22:15:00,220180,55,55,mmHg,0\n",
      "10000032,29079034,39553978,47007,2180-07-23 22:00:00,2180-07-23 22:15:00,220181,62,62,mmHg,0\n",
      "10000032,29079034,39553978,47007,2180-07-23 22:00:00,2180-07-23 22:15:00,220210,20,20,insp/min,0\n",
      "10000032,29079034,39553978,47007,2180-07-23 22:00:00,2180-07-23 22:15:00,220277,95,95,%,0\n",
      "zcat: error writing to output: Broken pipe\n"
     ]
    }
   ],
   "source": [
    "!zcat < ~/mimic/icu/chartevents.csv.gz | head -10"
   ]
  },
  {
   "cell_type": "markdown",
   "id": "503e290e-44cf-4ac8-9060-43d96bef0160",
   "metadata": {},
   "source": [
    "[`d_items.csv.gz`](https://mimic.mit.edu/docs/iv/modules/icu/d_items/) is the dictionary for the `itemid` in `chartevents.csv.gz`."
   ]
  },
  {
   "cell_type": "code",
   "execution_count": 2,
   "id": "a1bd8d66-0961-4f95-9f02-f576fb7a07c0",
   "metadata": {
    "tags": []
   },
   "outputs": [
    {
     "name": "stdout",
     "output_type": "stream",
     "text": [
      "itemid,label,abbreviation,linksto,category,unitname,param_type,lownormalvalue,highnormalvalue\n",
      "220001,Problem List,Problem List,chartevents,General,,Text,,\n",
      "220003,ICU Admission date,ICU Admission date,datetimeevents,ADT,,Date and time,,\n",
      "220045,Heart Rate,HR,chartevents,Routine Vital Signs,bpm,Numeric,,\n",
      "220046,Heart rate Alarm - High,HR Alarm - High,chartevents,Alarms,bpm,Numeric,,\n",
      "220047,Heart Rate Alarm - Low,HR Alarm - Low,chartevents,Alarms,bpm,Numeric,,\n",
      "220048,Heart Rhythm,Heart Rhythm,chartevents,Routine Vital Signs,,Text,,\n",
      "220050,Arterial Blood Pressure systolic,ABPs,chartevents,Routine Vital Signs,mmHg,Numeric,90,140\n",
      "220051,Arterial Blood Pressure diastolic,ABPd,chartevents,Routine Vital Signs,mmHg,Numeric,60,90\n",
      "220052,Arterial Blood Pressure mean,ABPm,chartevents,Routine Vital Signs,mmHg,Numeric,,\n",
      "zcat: error writing to output: Broken pipe\n"
     ]
    }
   ],
   "source": [
    "!zcat < ~/mimic/icu/d_items.csv.gz | head -10"
   ]
  },
  {
   "cell_type": "markdown",
   "id": "b8f757e5-9637-4549-b746-1aefce427a75",
   "metadata": {},
   "source": [
    "Again, we are interested in the vitals for ICU patients: heart rate (220045), mean non-invasive blood pressure (220181), systolic non-invasive blood pressure (220179), body temperature in Fahrenheit (223761), and respiratory rate (220210). Retrieve a subset of `chartevents.csv.gz` only containing these items, using the favorite method you learnt in Problem 3. \n",
    "\n",
    "Document the steps and show your code. Display the number of rows and the first 10 rows of the result `DataFrame`."
   ]
  },
  {
   "cell_type": "code",
   "execution_count": 4,
   "id": "12c612da-13ad-40fc-8207-5d740e073e7c",
   "metadata": {},
   "outputs": [
    {
     "data": {
      "application/vnd.jupyter.widget-view+json": {
       "model_id": "e3b61ad4812f422a8997f3d928ecdf43",
       "version_major": 2,
       "version_minor": 0
      },
      "text/plain": [
       "FloatProgress(value=0.0, layout=Layout(width='auto'), style=ProgressStyle(bar_color='black'))"
      ]
     },
     "metadata": {},
     "output_type": "display_data"
    },
    {
     "name": "stdout",
     "output_type": "stream",
     "text": [
      "   subject_id   hadm_id   stay_id  itemid           charttime value  valuenum\n",
      "0    10000032  29079034  39553978  220179 2180-07-23 21:01:00    82      82.0\n",
      "1    10000032  29079034  39553978  220181 2180-07-23 21:01:00    63      63.0\n",
      "2    10000032  29079034  39553978  220045 2180-07-23 22:00:00    94      94.0\n",
      "3    10000032  29079034  39553978  220179 2180-07-23 22:00:00    85      85.0\n",
      "4    10000032  29079034  39553978  220181 2180-07-23 22:00:00    62      62.0\n",
      "5    10000032  29079034  39553978  220210 2180-07-23 22:00:00    20      20.0\n",
      "6    10000032  29079034  39553978  220045 2180-07-23 19:00:00    97      97.0\n",
      "7    10000032  29079034  39553978  220179 2180-07-23 19:00:00    93      93.0\n",
      "8    10000032  29079034  39553978  220181 2180-07-23 19:00:00    56      56.0\n",
      "9    10000032  29079034  39553978  220210 2180-07-23 19:00:00    16      16.0\n",
      "Number of rows: 22502319\n"
     ]
    }
   ],
   "source": [
    "import duckdb\n",
    "# Define the path to the CSV file\n",
    "csv_path = '~/mimic/icu/chartevents.csv.gz'\n",
    "\n",
    "# Initialize a DuckDB connection\n",
    "con = duckdb.connect()\n",
    "\n",
    "# Use DuckDB to read and filter the CSV file directly\n",
    "vitals_itemids = [220045, 220179, 220181, 223761, 220210]\n",
    "query = f\"\"\"\n",
    "SELECT subject_id, hadm_id, stay_id, itemid, charttime, value, valuenum\n",
    "FROM read_csv_auto('{csv_path}')\n",
    "WHERE itemid IN {tuple(vitals_itemids)}\n",
    "\"\"\"\n",
    "\n",
    "# Execute the query and load the results into a pandas DataFrame\n",
    "df = con.execute(query).df()\n",
    "\n",
    "# Close the DuckDB connection\n",
    "con.close()\n",
    "\n",
    "# Display the first 10 rows\n",
    "print(df.head(10))\n",
    "\n",
    "# Print the number of rows\n",
    "print(\"Number of rows:\", len(df))\n",
    "\n",
    "\n",
    "\n"
   ]
  },
  {
   "cell_type": "code",
   "execution_count": null,
   "id": "1b7df831-669e-45c9-9205-78eec0a713ea",
   "metadata": {},
   "outputs": [],
   "source": []
  }
 ],
 "metadata": {
  "kernelspec": {
   "display_name": "Python 3 (ipykernel)",
   "language": "python",
   "name": "python3"
  },
  "language_info": {
   "codemirror_mode": {
    "name": "ipython",
    "version": 3
   },
   "file_extension": ".py",
   "mimetype": "text/x-python",
   "name": "python",
   "nbconvert_exporter": "python",
   "pygments_lexer": "ipython3",
   "version": "3.11.4"
  }
 },
 "nbformat": 4,
 "nbformat_minor": 5
}
