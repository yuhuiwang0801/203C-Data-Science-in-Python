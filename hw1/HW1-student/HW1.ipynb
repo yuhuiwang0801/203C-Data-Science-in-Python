{
 "cells": [
  {
   "cell_type": "markdown",
   "metadata": {},
   "source": [
    "# Homework 1\n",
    "\n",
    "### Name: Yuhui Wang\n",
    "### Collaborators: [Your collaborators]"
   ]
  },
  {
   "cell_type": "markdown",
   "metadata": {},
   "source": [
    "This homework focuses on topics related to basic data types, collections, and iterations. \n",
    "\n",
    "I encourage collaborating with your peers, but the final text, code, and comments in this homework assignment should still be written by you. Please check to the collaboration policy on BruinLearn.\n",
    "\n",
    "Pay special attention to the instructions - should your function `print` something or `return` something?\n",
    "\n",
    "Submission instructions: \n",
    "- Submit `HW1.py` and `HW1.ipynb` compressed in a single file on Gradescope under \"HW1 - Autograder\". Compress the two files directly, not compressing the folder containing the two files. Do **NOT** change the file name. The style and readability of your code will be checked by the reader aka human grader.\n",
    "- Convert this notebook into a pdf file and submit it on GradeScope under \"HW1 - PDF\". Make sure the figure in the last part is visible. "
   ]
  },
  {
   "cell_type": "markdown",
   "metadata": {},
   "source": [
    "## Comments and Docstrings\n",
    "\n",
    "You will be graded in part on the quality of your documentation and explanation of your code. Here's what we expect: \n",
    "\n",
    "- **Comments**: Use comments liberally to explain the purpose of short snippets of code. \n",
    "- **Docstrings**: Functions (and, later, classes) should be accompanied by a *docstring*. Briefly, the docstring should provide enough information that a user could correctly use your function ***without seeing the code.*** In somewhat more detail, the docstring should include the following information: \n",
    "    - One or more sentences describing the overall purpose of the function. \n",
    "    - An explanation of each of the inputs, including what they mean, their required data types, and any additional assumptions made about them.\n",
    "    - An explanation of the outputs. \n",
    "    \n",
    "In future homeworks, we will be looking for clear and informative comments and docstrings. \n",
    "\n",
    "## Code Structure\n",
    "\n",
    "In general, there are many good ways to solve a given problem. However, just getting the right result isn't enough to guarantee that your code is of high quality. Check the logic of your solutions to make sure that: \n",
    "\n",
    "- You aren't making any unnecessary steps, like creating variables you don't use. \n",
    "- You are effectively making use of the tools in the course, especially control flow. \n",
    "- Your code is readable. Each line is short (under 80 characters), and doesn't have long tangles of functions or `()` parentheses. \n",
    "\n",
    "Ok, let's go! "
   ]
  },
  {
   "cell_type": "code",
   "execution_count": 1,
   "metadata": {},
   "outputs": [],
   "source": [
    "# This cell imports your functions defined in HW1.py \n",
    "from HW1 import print_s, print_s_lines, print_s_parts, print_s_some, print_s_change\n",
    "from HW1 import make_count_dictionary\n",
    "from HW1 import gimme_an_odd_number\n",
    "from HW1 import get_triangular_numbers, get_consonants, get_list_of_powers, get_list_of_even_powers\n",
    "from HW1 import random_walk\n",
    "\n",
    "# This is for problem 5\n",
    "import random\n",
    "from matplotlib import pyplot as plt"
   ]
  },
  {
   "cell_type": "markdown",
   "metadata": {},
   "source": [
    "## Problem 1\n",
    "\n",
    "### (a) Define variable `s` in the cell below\n",
    "\n",
    "Take a look at the function `print_s` in HW1.py, and understand what that function does.\n",
    "\n",
    "In the cell below, define a string variable `s` such that `print_s(s)` prints:\n",
    "\n",
    "```\n",
    "Tired    : Doing math on your calculator. \n",
    "Wired    : Doing math in Python. \n",
    "Inspired : Training literal pythons to carry out long division using an abacus.\n",
    "```\n",
    "\n",
    "The potentially tricky part here is dealing with the newlines. You can choose to use newline characters, or use triple quotes. See: https://docs.python.org/3/tutorial/introduction.html#strings."
   ]
  },
  {
   "cell_type": "code",
   "execution_count": 2,
   "metadata": {},
   "outputs": [
    {
     "name": "stdout",
     "output_type": "stream",
     "text": [
      "Tired    : Doing math on your calculator. \n",
      "Wired    : Doing math in Python. \n",
      "Inspired : Training literal pythons to carry out long division using an abacus.\n"
     ]
    }
   ],
   "source": [
    "# define s here and test print_s(s)\n",
    "s = \"Tired    : Doing math on your calculator. \\n\\\n",
    "Wired    : Doing math in Python. \\n\\\n",
    "Inspired : Training literal pythons to carry out long division using an abacus.\"\n",
    "print_s(s)"
   ]
  },
  {
   "cell_type": "markdown",
   "metadata": {},
   "source": [
    "Next, write Python commands which use `s` to print the specified outputs. Feel free to use loops and comprehensions; however, keep your code as concise as possible. Each solution should require at most three short lines of code.  \n",
    "\n",
    "For full credit, you should minimize the use of positional indexing (e.g. `s[5:10]`) when possible. \n",
    "\n",
    "### (b) Define function `print_s_lines` in HW1.py\n",
    "\n",
    "When `print_s_lines(s)` is run with the previously defined `s`, it should print:\n",
    "```\n",
    "Tired    \n",
    "Doing math on your calculator. \n",
    "Wired    \n",
    "Doing math in Python. \n",
    "Inspired \n",
    "Training literal pythons to carry out long division using an abacus.\n",
    "```"
   ]
  },
  {
   "cell_type": "code",
   "execution_count": 3,
   "metadata": {},
   "outputs": [
    {
     "name": "stdout",
     "output_type": "stream",
     "text": [
      "Tired\n",
      "Doing math on your calculator.\n",
      "Wired\n",
      "Doing math in Python.\n",
      "Inspired\n",
      "Training literal pythons to carry out long division using an abacus.\n"
     ]
    }
   ],
   "source": [
    "# test print_s_lines(s) here\n",
    "print_s_lines(s)"
   ]
  },
  {
   "cell_type": "markdown",
   "metadata": {},
   "source": [
    "### (c) Define `print_s_parts` in HW1.py\n",
    "\n",
    "When `print_s_parts(s)` is run with the previously defined `s`, it should print:\n",
    "```\n",
    "Tired\n",
    "Wired\n",
    "Inspired\n",
    "```\n",
    "\n",
    "**Hint**: look at the endings of words. A small amount of positional indexing might be handy here. "
   ]
  },
  {
   "cell_type": "code",
   "execution_count": 4,
   "metadata": {},
   "outputs": [
    {
     "name": "stdout",
     "output_type": "stream",
     "text": [
      "Tired\n",
      "Wired\n",
      "Inspired\n"
     ]
    }
   ],
   "source": [
    "# test print_s_parts(s) here\n",
    "print_s_parts(s)"
   ]
  },
  {
   "cell_type": "markdown",
   "metadata": {},
   "source": [
    "### (d) Define `print_s_some` in HW1.py\n",
    "\n",
    "When `print_s_some(s)` is run with the previously defined `s`, it should print:\n",
    "```\n",
    "Tired    : Doing math on your calculator. \n",
    "Wired    : Doing math in Python. \n",
    "```\n",
    "\n",
    "**Hint**: These two lines are shorter than the other one. You are NOT allowed to use the fact that these are the first two sentences of the text.\n"
   ]
  },
  {
   "cell_type": "code",
   "execution_count": 5,
   "metadata": {},
   "outputs": [
    {
     "name": "stdout",
     "output_type": "stream",
     "text": [
      "Tired    : Doing math on your calculator. \n",
      "Wired    : Doing math in Python. \n"
     ]
    }
   ],
   "source": [
    "# test print_s_some(s) here\n",
    "print_s_some(s)"
   ]
  },
  {
   "cell_type": "markdown",
   "metadata": {},
   "source": [
    "### (e) Define `print_s_change` in HW1.py\n",
    "\n",
    "When `print_s_change(s)` is run with the previously defined `s`, it should print:\n",
    "\n",
    "```\n",
    "Tired    : Doing data science on your calculator. \n",
    "Wired    : Doing data science in Python. \n",
    "Inspired : Training literal pythons to carry out machine learning using an abacus.\n",
    "```\n",
    "\n",
    "**Hint**: `str.replace`. \n"
   ]
  },
  {
   "cell_type": "code",
   "execution_count": 6,
   "metadata": {},
   "outputs": [
    {
     "name": "stdout",
     "output_type": "stream",
     "text": [
      "Tired    : Doing data science on your calculator. \n",
      "Wired    : Doing data science in Python. \n",
      "Inspired : Training literal pythons to carry out machine learning using an abacus.\n"
     ]
    }
   ],
   "source": [
    "# test print_s_change(s) here\n",
    "print_s_change(s)"
   ]
  },
  {
   "cell_type": "markdown",
   "metadata": {},
   "source": [
    "## Problem 2: Define `make_count_dictionary` in HW1.py\n",
    "\n",
    "The function `make_count_dictionary` takes a list `L` and returns a dictionary `D` where: \n",
    "\n",
    "- The *keys* of `D` are the unique elements of `L` (i.e. each element of `L` appears only once). \n",
    "- The value `D[i]` is the number of times that `i` appears in list `L`. \n",
    "\n",
    "Make sure your function has a descriptive docstring and is sufficiently commented.\n",
    "\n",
    "Your code should work for lists of strings, lists of integers, and lists containing both strings and integers. \n",
    "\n",
    "For example: \n",
    "\n",
    "```python\n",
    "# input\n",
    "L = [\"a\", \"a\", \"b\", \"c\"]\n",
    "# output\n",
    "{\"a\" : 2, \"b\" : 1, \"c\" : 1}\n",
    "```\n",
    "\n",
    "### Attend to Efficiency\n",
    "A good way to solve this problem is using the `list.count()` method. However, you should carefully check the structure of your code to ensure that you are not calling `list.count()` an unnecessary number of times. Consider the supplied example above: how many times should list.count() be called?\n",
    "\n",
    "There are also other good solutions to this problem which do not use list.count(). Here as well, make sure that you are not performing unnecessary computations."
   ]
  },
  {
   "cell_type": "code",
   "execution_count": 7,
   "metadata": {},
   "outputs": [],
   "source": [
    "L = [\"a\", \"a\", \"b\", \"c\"]"
   ]
  },
  {
   "cell_type": "code",
   "execution_count": 8,
   "metadata": {},
   "outputs": [
    {
     "data": {
      "text/plain": [
       "{'a': 2, 'b': 1, 'c': 1}"
      ]
     },
     "execution_count": 8,
     "metadata": {},
     "output_type": "execute_result"
    }
   ],
   "source": [
    "# test your make_count_dictionary here\n",
    "make_count_dictionary(L)"
   ]
  },
  {
   "cell_type": "markdown",
   "metadata": {},
   "source": [
    "## Problem 3: Define `gimme_an_odd_number` in HW1.py\n",
    "\n",
    "The `input()` function allows you to accept typed input from a user as a string. For example, \n",
    "\n",
    "```python\n",
    "x = input(\"Please enter an integer.\")\n",
    "# user types 7\n",
    "x\n",
    "# output \n",
    "'7'\n",
    "```\n",
    "\n",
    "Function `gimme_an_odd_number` does not take any inputs. When it's run, it prompts to `\"Please enter an integer.\"`. If the user inputs an even integer, the code should re-prompt them with the same message. If the user has entered an odd integer, the function should print a list of all numbers that the user has given so far, and also return the same list.\n",
    "\n",
    "You may assume that the user will only input strings of integers such as `\"3\"` or `\"42\"`. \n",
    "\n",
    "*Hint*: Try `while` and associated tools. \n",
    "\n",
    "*Hint*: Which built-in Python function ([https://docs.python.org/3/library/functions.html](https://docs.python.org/3/library/functions.html)) can turn string `\"3\"` to integer `3`?\n",
    "\n",
    "### Example\n",
    "\n",
    "```python\n",
    "\n",
    "# run gimme_an_odd_number()\n",
    "\n",
    "> Please enter an integer.6\n",
    "> Please enter an integer.8\n",
    "> Please enter an integer.4\n",
    "> Please enter an integer.9\n",
    "> [6, 8, 4, 9]\n",
    "\n",
    "```"
   ]
  },
  {
   "cell_type": "code",
   "execution_count": 9,
   "metadata": {},
   "outputs": [
    {
     "name": "stdout",
     "output_type": "stream",
     "text": [
      "Please enter an integer.6\n",
      "Please enter an integer.8\n",
      "Please enter an integer.4\n",
      "Please enter an integer.9\n",
      "[6, 8, 4, 9]\n"
     ]
    }
   ],
   "source": [
    "gimme_an_odd_number()"
   ]
  },
  {
   "cell_type": "markdown",
   "metadata": {},
   "source": [
    "## Problem 4\n",
    "\n",
    "Write list comprehensions which produce the specified list. Each list comprehension should fit on one line and be no longer than 80 characters. "
   ]
  },
  {
   "cell_type": "markdown",
   "metadata": {},
   "source": [
    "### (a) Define `get_triangular_numbers` in HW1.py\n",
    "\n",
    "The `k`th triangular number ([https://en.wikipedia.org/wiki/Triangular_number](https://en.wikipedia.org/wiki/Triangular_number)) is the sum of natural numbers up to and including `k`. Write `get_triangular_numbers` such that for a given `k`, it returns a list of the first `k` triangular numbers. \n",
    "\n",
    "For example, the sixth triangular number is \n",
    "\n",
    "$$1+2+3+4+5+6 = 21,$$\n",
    "\n",
    "and running `get_triangular_numbers` with an argument of `k=6` should output `[1, 3, 6, 10, 15, 21]`. You function should have a docstring."
   ]
  },
  {
   "cell_type": "code",
   "execution_count": 10,
   "metadata": {},
   "outputs": [
    {
     "data": {
      "text/plain": [
       "[1, 3, 6, 10, 15, 21]"
      ]
     },
     "execution_count": 10,
     "metadata": {},
     "output_type": "execute_result"
    }
   ],
   "source": [
    "# test your get_triangular_numbers here\n",
    "k = 6\n",
    "get_triangular_numbers(k)"
   ]
  },
  {
   "cell_type": "markdown",
   "metadata": {},
   "source": [
    "### (b) Define `get_consonants` in HW1.py\n",
    "\n",
    "The function `get_consonants` taks a string `s` as an input, and returns a list of the letters in `s` **except for vowels, spaces, commas, and periods.** For the purposes of this example, an English vowel is any of the letters `[\"a\", \"e\", \"i\", \"o\", \"u\"]`. For example: \n",
    "\n",
    "```python\n",
    "s = \"make it so, number one\"\n",
    "print(get_consonants(s))\n",
    "[\"m\", \"k\", \"t\", \"s\", \"n\", \"m\", \"b\", \"r\", \"n\"]\n",
    "```\n",
    "\n",
    "*Hint:* Consider the following code: \n",
    "\n",
    "```python\n",
    "l = \"a\"\n",
    "l not in [\"e\", \"w\"]\n",
    "```\n",
    "\n",
    "Each element in the returned is is one character long, is not a vowel, space, comma, nor period, is in `s`, and may appear multiple times. The elements appear in the same order as the letters in `s``."
   ]
  },
  {
   "cell_type": "code",
   "execution_count": 11,
   "metadata": {},
   "outputs": [
    {
     "data": {
      "text/plain": [
       "['m', 'k', 't', 's', 'n', 'm', 'b', 'r', 'n']"
      ]
     },
     "execution_count": 11,
     "metadata": {},
     "output_type": "execute_result"
    }
   ],
   "source": [
    "# test your get_consonants here\n",
    "s = \"make it so, number one\"\n",
    "get_consonants(s)"
   ]
  },
  {
   "cell_type": "markdown",
   "metadata": {},
   "source": [
    "### (c) Define `get_list_of_powers` in HW1.py\n",
    "\n",
    "The function `get_list_of_powers` takes in a list `X` and integer `k` and returns a list `L` whose elements are themselves lists. The `i`th element of `L` contains the powers of `X[i]` from `0` to `k`. \n",
    "\n",
    "For example, running `get_list_of_powers` with inputs `X = [5, 6, 7]` and `k = 2` will return `[[1, 5, 25], [1, 6, 36], [1, 7, 49]]`.\n",
    "The `i`th element is a list of the powers of `X[i]` from `0` to (and including) `k`, in increasing order."
   ]
  },
  {
   "cell_type": "code",
   "execution_count": 12,
   "metadata": {},
   "outputs": [
    {
     "data": {
      "text/plain": [
       "[[1, 5, 25], [1, 6, 36], [1, 7, 49]]"
      ]
     },
     "execution_count": 12,
     "metadata": {},
     "output_type": "execute_result"
    }
   ],
   "source": [
    "# test your get_list_of_powers here\n",
    "get_list_of_powers([5, 6, 7], 2)"
   ]
  },
  {
   "cell_type": "markdown",
   "metadata": {},
   "source": [
    "### (d) Define `get_list_of_even_powers` in HW1.py\n",
    "\n",
    "As in **(c)**, the function `get_list_of_even_powers` takes in a list `X` and inter `k`, and returns a list `L` whose elements are themselves lists. But now `L` includes only even powers of elements of `X`. For example, running `get_list_of_even_powers` with inputs `X = [5, 6, 7]` and `k = 8` should return `[[1, 25, 625, 15625, 390625],\n",
    " [1, 36, 1296, 46656, 1679616],\n",
    " [1, 49, 2401, 117649, 5764801]]`.\n",
    "\n",
    "The `i`th element is a list of the EVEN powers of `X[i]` from `0` to (and including) `k`, in increasing order."
   ]
  },
  {
   "cell_type": "code",
   "execution_count": 13,
   "metadata": {},
   "outputs": [
    {
     "data": {
      "text/plain": [
       "[[1, 25, 625, 15625, 390625],\n",
       " [1, 36, 1296, 46656, 1679616],\n",
       " [1, 49, 2401, 117649, 5764801]]"
      ]
     },
     "execution_count": 13,
     "metadata": {},
     "output_type": "execute_result"
    }
   ],
   "source": [
    "# test your get_list_of_even_powers here\n",
    "get_list_of_even_powers([5, 6, 7], 8)"
   ]
  },
  {
   "cell_type": "markdown",
   "metadata": {},
   "source": [
    "## Problem 5: Define `random_walk` in HW1.py\n",
    "\n",
    "In this problem, we'll simulate the *simple random walk*, perhaps the most important discrete-time stochastic process. Random walks are commonly used to model phenomena in physics,  chemistry, biology, and finance. In the simple random walk, at each timestep we flip a fair coin. If heads, we move foward one step; if tails, we move backwards. Let \"forwards\" be represented by positive integers, and \"backwards\" be represented by negative integers. For example, if we are currently three steps backwards from the starting point, our position is `-3`. \n",
    "\n",
    "Write `random_walk` to simulate a random walk. Your function should: \n",
    "\n",
    "- Take an upper and lower bound as inputs.\n",
    "- Return three variables `pos`, `positions`, `steps`, in that order.\n",
    "- `pos` is an integer, and indicates the walk's final position at termination.\n",
    "- `positions` is a list of integers, and it is a log of the position of the walk at each time step. Includes the initial position but excludes the final position.\n",
    "- `steps` is a list of integers, and it is a log of the results of the coin flips. Values of `-1`s and `1`s.  \n",
    "\n",
    "When the walk reaches the upper or lower bound, print a message such as `Upper bound at 3 reached` and terminate the walk. \n",
    "\n",
    "Your code should include at least one instance of an `elif` statement and at least one instance of a `break` statement."
   ]
  },
  {
   "cell_type": "markdown",
   "metadata": {},
   "source": [
    "**Hint**\n",
    "To simulate a fair coin toss, try running the following cell multiple times.\n",
    "Use `+1`'s and `-1`'s instead of `\"heads\"` and `\"tails\"` for your function!"
   ]
  },
  {
   "cell_type": "code",
   "execution_count": 14,
   "metadata": {
    "scrolled": true
   },
   "outputs": [
    {
     "name": "stdout",
     "output_type": "stream",
     "text": [
      "tails\n",
      "heads\n",
      "tails\n",
      "tails\n",
      "tails\n",
      "tails\n",
      "tails\n",
      "tails\n",
      "tails\n",
      "heads\n"
     ]
    }
   ],
   "source": [
    "for _ in range(10):\n",
    "    x = random.choice([\"heads\",\"tails\"])\n",
    "    print(x)"
   ]
  },
  {
   "cell_type": "code",
   "execution_count": 15,
   "metadata": {},
   "outputs": [
    {
     "name": "stdout",
     "output_type": "stream",
     "text": [
      "Lower bound at -5 reached.\n"
     ]
    },
    {
     "data": {
      "text/plain": [
       "(-5,\n",
       " [0,\n",
       "  1,\n",
       "  0,\n",
       "  1,\n",
       "  0,\n",
       "  -1,\n",
       "  0,\n",
       "  -1,\n",
       "  0,\n",
       "  1,\n",
       "  2,\n",
       "  3,\n",
       "  2,\n",
       "  3,\n",
       "  2,\n",
       "  1,\n",
       "  0,\n",
       "  1,\n",
       "  0,\n",
       "  1,\n",
       "  0,\n",
       "  -1,\n",
       "  -2,\n",
       "  -3,\n",
       "  -4,\n",
       "  -3,\n",
       "  -4,\n",
       "  -3,\n",
       "  -4],\n",
       " [1,\n",
       "  -1,\n",
       "  1,\n",
       "  -1,\n",
       "  -1,\n",
       "  1,\n",
       "  -1,\n",
       "  1,\n",
       "  1,\n",
       "  1,\n",
       "  1,\n",
       "  -1,\n",
       "  1,\n",
       "  -1,\n",
       "  -1,\n",
       "  -1,\n",
       "  1,\n",
       "  -1,\n",
       "  1,\n",
       "  -1,\n",
       "  -1,\n",
       "  -1,\n",
       "  -1,\n",
       "  -1,\n",
       "  1,\n",
       "  -1,\n",
       "  1,\n",
       "  -1,\n",
       "  -1])"
      ]
     },
     "execution_count": 15,
     "metadata": {},
     "output_type": "execute_result"
    }
   ],
   "source": [
    "# test your random_walk here\n",
    "random_walk(5, -5)"
   ]
  },
  {
   "cell_type": "markdown",
   "metadata": {},
   "source": [
    "Finally, you might be interested in visualizing the walk. Run the following cell to produce a plot. When the bounds are set very large, the resulting visualization can be quite intriguing and attractive. It is not necessary for you to understand the syntax of these commands at this stage. "
   ]
  },
  {
   "cell_type": "code",
   "execution_count": 16,
   "metadata": {},
   "outputs": [
    {
     "name": "stdout",
     "output_type": "stream",
     "text": [
      "Upper bound at 5000 reached.\n"
     ]
    },
    {
     "data": {
      "image/png": "[encoded data removed]",
      "text/plain": [
       "<Figure size 1200x800 with 1 Axes>"
      ]
     },
     "metadata": {},
     "output_type": "display_data"
    }
   ],
   "source": [
    "# uncomment me!\n",
    "#\n",
    "pos, positions, steps = random_walk(5000, -5000)\n",
    "#\n",
    "plt.figure(figsize=(12, 8))\n",
    "plt.plot(positions)\n",
    "plt.xlabel('Timestep')\n",
    "plt.ylabel('Position')\n",
    "plt.title('Random Walk')\n",
    "plt.show()"
   ]
  },
  {
   "cell_type": "code",
   "execution_count": null,
   "metadata": {},
   "outputs": [],
   "source": []
  }
 ],
 "metadata": {
  "interpreter": {
   "hash": "31f2aee4e71d21fbe5cf8b01ff0e069b9275f58929596ceb00d14d90e3e16cd6"
  },
  "kernelspec": {
   "display_name": "Python 3 (ipykernel)",
   "language": "python",
   "name": "python3"
  },
  "language_info": {
   "codemirror_mode": {
    "name": "ipython",
    "version": 3
   },
   "file_extension": ".py",
   "mimetype": "text/x-python",
   "name": "python",
   "nbconvert_exporter": "python",
   "pygments_lexer": "ipython3",
   "version": "3.11.4"
  }
 },
 "nbformat": 4,
 "nbformat_minor": 4
}
